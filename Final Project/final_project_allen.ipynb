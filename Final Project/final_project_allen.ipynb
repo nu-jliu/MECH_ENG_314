{
 "cells": [
  {
   "cell_type": "markdown",
   "metadata": {},
   "source": [
    "# Final Project\n",
    "**Author**: Allen Liu\n",
    "\n",
    "## Project Description\n",
    "TODO: TBD"
   ]
  },
  {
   "cell_type": "code",
   "execution_count": 71,
   "metadata": {},
   "outputs": [],
   "source": [
    "import numpy as np\n",
    "import sympy as sym\n",
    "import matplotlib.pyplot as plt\n",
    "\n",
    "from IPython.display import display, Markdown"
   ]
  },
  {
   "cell_type": "code",
   "execution_count": 72,
   "metadata": {},
   "outputs": [],
   "source": [
    "## Helper Functions\n",
    "def Trans_Mat(theta, px, py, pz):\n",
    "    return sym.Matrix([\n",
    "        [   sym.cos(theta),    -sym.sin(theta),     0.,      px], \n",
    "        [   sym.sin(theta),     sym.cos(theta),     0.,      py], \n",
    "        [   0.,                 0.,                 1.,      pz], \n",
    "        [   0.,                 0.,                 0.,      1.]\n",
    "    ])\n",
    "    \n",
    "def unhat(V_hat):\n",
    "    wx = V_hat[2, 1]\n",
    "    wy = V_hat[0, 2]\n",
    "    wz = V_hat[1, 0]\n",
    "\n",
    "    vx = V_hat[0, 3]\n",
    "    vy = V_hat[1, 3]\n",
    "    vz = V_hat[2, 3]\n",
    "\n",
    "    return sym.Matrix([vx, vy, vz, wx, wy, wz])\n",
    "\n",
    "def trans_inv(g):\n",
    "\n",
    "    R = g[:3, :3]\n",
    "    p = g[:3,  3]\n",
    "\n",
    "    R_inv =  R.T\n",
    "    p_inv = -R_inv * p\n",
    "    return sym.Matrix([\n",
    "        [R_inv[0, 0], R_inv[0, 1], R_inv[0, 2], p_inv[0]],\n",
    "        [R_inv[1, 0], R_inv[1, 1], R_inv[1, 2], p_inv[1]],\n",
    "        [R_inv[2, 0], R_inv[2, 1], R_inv[2, 2], p_inv[2]],\n",
    "        [          0,           0,           0,        1]\n",
    "    ])"
   ]
  },
  {
   "cell_type": "code",
   "execution_count": 73,
   "metadata": {},
   "outputs": [],
   "source": [
    "## Definitions\n",
    "\n",
    "# Constants\n",
    "m = 1.\n",
    "M = 1.\n",
    "g = 9.8\n",
    "Lj = 1.\n",
    "Lb = 3.\n",
    "t = sym.symbols(r't')\n",
    "xb = sym.Function(r'x_b')(t)\n",
    "xj = sym.Function(r'x_j')(t)\n",
    "yb = sym.Function(r'y_b')(t)\n",
    "yj = sym.Function(r'y_j')(t)\n",
    "thetab = sym.Function(r'\\theta_b')(t)\n",
    "thetaj = sym.Function(r'\\theta_j')(t)\n",
    "\n",
    "lam = sym.Function(r'\\lambda')(t)\n",
    "\n",
    "xbdot     = xb.diff(t)\n",
    "ybdot     = yb.diff(t)\n",
    "thetabdot = thetab.diff(t)\n",
    "xbdot     = xb.diff(t)\n",
    "ybdot     = yb.diff(t)\n",
    "thetabdot = thetab.diff(t)\n",
    "\n",
    "q     = sym.Matrix([xb, yb, thetab, xj, yj, thetaj])\n",
    "qdot  = q.diff(t)\n",
    "qddot = qdot.diff(t)"
   ]
  },
  {
   "cell_type": "code",
   "execution_count": 74,
   "metadata": {},
   "outputs": [
    {
     "data": {
      "text/markdown": [
       "**The Tranformation from world to frame $B$ $g_{WB}$ is:**"
      ],
      "text/plain": [
       "<IPython.core.display.Markdown object>"
      ]
     },
     "metadata": {},
     "output_type": "display_data"
    },
    {
     "data": {
      "text/latex": [
       "$\\displaystyle \\left[\\begin{matrix}\\cos{\\left(\\theta_{b}{\\left(t \\right)} \\right)} & - \\sin{\\left(\\theta_{b}{\\left(t \\right)} \\right)} & 0 & 1.0 x_{b}{\\left(t \\right)}\\\\\\sin{\\left(\\theta_{b}{\\left(t \\right)} \\right)} & \\cos{\\left(\\theta_{b}{\\left(t \\right)} \\right)} & 0 & 1.0 y_{b}{\\left(t \\right)}\\\\0 & 0 & 1.0 & 0\\\\0 & 0 & 0 & 1.0\\end{matrix}\\right]$"
      ],
      "text/plain": [
       "Matrix([\n",
       "[cos(\\theta_b(t)), -sin(\\theta_b(t)),   0, 1.0*x_b(t)],\n",
       "[sin(\\theta_b(t)),  cos(\\theta_b(t)),   0, 1.0*y_b(t)],\n",
       "[               0,                 0, 1.0,          0],\n",
       "[               0,                 0,   0,        1.0]])"
      ]
     },
     "metadata": {},
     "output_type": "display_data"
    },
    {
     "data": {
      "text/markdown": [
       "**The Tranformation from world to frame $C$ $g_{WC}$ is:**"
      ],
      "text/plain": [
       "<IPython.core.display.Markdown object>"
      ]
     },
     "metadata": {},
     "output_type": "display_data"
    },
    {
     "data": {
      "text/latex": [
       "$\\displaystyle \\left[\\begin{matrix}\\cos{\\left(\\theta_{b}{\\left(t \\right)} \\right)} & - \\sin{\\left(\\theta_{b}{\\left(t \\right)} \\right)} & 0 & 1.0 x_{b}{\\left(t \\right)} + 1.5 \\sqrt{2} \\cos{\\left(\\theta_{b}{\\left(t \\right)} + \\frac{\\pi}{4} \\right)}\\\\\\sin{\\left(\\theta_{b}{\\left(t \\right)} \\right)} & \\cos{\\left(\\theta_{b}{\\left(t \\right)} \\right)} & 0 & 1.0 y_{b}{\\left(t \\right)} + 1.5 \\sqrt{2} \\sin{\\left(\\theta_{b}{\\left(t \\right)} + \\frac{\\pi}{4} \\right)}\\\\0 & 0 & 1.0 & 0\\\\0 & 0 & 0 & 1.0\\end{matrix}\\right]$"
      ],
      "text/plain": [
       "Matrix([\n",
       "[cos(\\theta_b(t)), -sin(\\theta_b(t)),   0, 1.0*x_b(t) + 1.5*sqrt(2)*cos(\\theta_b(t) + pi/4)],\n",
       "[sin(\\theta_b(t)),  cos(\\theta_b(t)),   0, 1.0*y_b(t) + 1.5*sqrt(2)*sin(\\theta_b(t) + pi/4)],\n",
       "[               0,                 0, 1.0,                                                0],\n",
       "[               0,                 0,   0,                                              1.0]])"
      ]
     },
     "metadata": {},
     "output_type": "display_data"
    },
    {
     "data": {
      "text/markdown": [
       "**The Tranformation from world to frame $D$ $g_{WD}$ is:**"
      ],
      "text/plain": [
       "<IPython.core.display.Markdown object>"
      ]
     },
     "metadata": {},
     "output_type": "display_data"
    },
    {
     "data": {
      "text/latex": [
       "$\\displaystyle \\left[\\begin{matrix}\\cos{\\left(\\theta_{b}{\\left(t \\right)} \\right)} & - \\sin{\\left(\\theta_{b}{\\left(t \\right)} \\right)} & 0 & 1.0 x_{b}{\\left(t \\right)} - 1.5 \\sqrt{2} \\sin{\\left(\\theta_{b}{\\left(t \\right)} + \\frac{\\pi}{4} \\right)}\\\\\\sin{\\left(\\theta_{b}{\\left(t \\right)} \\right)} & \\cos{\\left(\\theta_{b}{\\left(t \\right)} \\right)} & 0 & 1.0 y_{b}{\\left(t \\right)} + 1.5 \\sqrt{2} \\cos{\\left(\\theta_{b}{\\left(t \\right)} + \\frac{\\pi}{4} \\right)}\\\\0 & 0 & 1.0 & 0\\\\0 & 0 & 0 & 1.0\\end{matrix}\\right]$"
      ],
      "text/plain": [
       "Matrix([\n",
       "[cos(\\theta_b(t)), -sin(\\theta_b(t)),   0, 1.0*x_b(t) - 1.5*sqrt(2)*sin(\\theta_b(t) + pi/4)],\n",
       "[sin(\\theta_b(t)),  cos(\\theta_b(t)),   0, 1.0*y_b(t) + 1.5*sqrt(2)*cos(\\theta_b(t) + pi/4)],\n",
       "[               0,                 0, 1.0,                                                0],\n",
       "[               0,                 0,   0,                                              1.0]])"
      ]
     },
     "metadata": {},
     "output_type": "display_data"
    },
    {
     "data": {
      "text/markdown": [
       "**The Tranformation from world to frame $E$ $g_{WE}$ is:**"
      ],
      "text/plain": [
       "<IPython.core.display.Markdown object>"
      ]
     },
     "metadata": {},
     "output_type": "display_data"
    },
    {
     "data": {
      "text/latex": [
       "$\\displaystyle \\left[\\begin{matrix}\\cos{\\left(\\theta_{b}{\\left(t \\right)} \\right)} & - \\sin{\\left(\\theta_{b}{\\left(t \\right)} \\right)} & 0 & 1.0 x_{b}{\\left(t \\right)} - 1.5 \\sqrt{2} \\cos{\\left(\\theta_{b}{\\left(t \\right)} + \\frac{\\pi}{4} \\right)}\\\\\\sin{\\left(\\theta_{b}{\\left(t \\right)} \\right)} & \\cos{\\left(\\theta_{b}{\\left(t \\right)} \\right)} & 0 & 1.0 y_{b}{\\left(t \\right)} - 1.5 \\sqrt{2} \\sin{\\left(\\theta_{b}{\\left(t \\right)} + \\frac{\\pi}{4} \\right)}\\\\0 & 0 & 1.0 & 0\\\\0 & 0 & 0 & 1.0\\end{matrix}\\right]$"
      ],
      "text/plain": [
       "Matrix([\n",
       "[cos(\\theta_b(t)), -sin(\\theta_b(t)),   0, 1.0*x_b(t) - 1.5*sqrt(2)*cos(\\theta_b(t) + pi/4)],\n",
       "[sin(\\theta_b(t)),  cos(\\theta_b(t)),   0, 1.0*y_b(t) - 1.5*sqrt(2)*sin(\\theta_b(t) + pi/4)],\n",
       "[               0,                 0, 1.0,                                                0],\n",
       "[               0,                 0,   0,                                              1.0]])"
      ]
     },
     "metadata": {},
     "output_type": "display_data"
    },
    {
     "data": {
      "text/markdown": [
       "**The Tranformation from world to frame $F$ $g_{WF}$ is:**"
      ],
      "text/plain": [
       "<IPython.core.display.Markdown object>"
      ]
     },
     "metadata": {},
     "output_type": "display_data"
    },
    {
     "data": {
      "text/latex": [
       "$\\displaystyle \\left[\\begin{matrix}\\cos{\\left(\\theta_{b}{\\left(t \\right)} \\right)} & - \\sin{\\left(\\theta_{b}{\\left(t \\right)} \\right)} & 0 & 1.0 x_{b}{\\left(t \\right)} + 1.5 \\sqrt{2} \\sin{\\left(\\theta_{b}{\\left(t \\right)} + \\frac{\\pi}{4} \\right)}\\\\\\sin{\\left(\\theta_{b}{\\left(t \\right)} \\right)} & \\cos{\\left(\\theta_{b}{\\left(t \\right)} \\right)} & 0 & 1.0 y_{b}{\\left(t \\right)} - 1.5 \\sqrt{2} \\cos{\\left(\\theta_{b}{\\left(t \\right)} + \\frac{\\pi}{4} \\right)}\\\\0 & 0 & 1.0 & 0\\\\0 & 0 & 0 & 1.0\\end{matrix}\\right]$"
      ],
      "text/plain": [
       "Matrix([\n",
       "[cos(\\theta_b(t)), -sin(\\theta_b(t)),   0, 1.0*x_b(t) + 1.5*sqrt(2)*sin(\\theta_b(t) + pi/4)],\n",
       "[sin(\\theta_b(t)),  cos(\\theta_b(t)),   0, 1.0*y_b(t) - 1.5*sqrt(2)*cos(\\theta_b(t) + pi/4)],\n",
       "[               0,                 0, 1.0,                                                0],\n",
       "[               0,                 0,   0,                                              1.0]])"
      ]
     },
     "metadata": {},
     "output_type": "display_data"
    }
   ],
   "source": [
    "## Define Frames\n",
    "\n",
    "# Box Frames\n",
    "gwa = Trans_Mat(0., xb, yb, 0.)\n",
    "gab = Trans_Mat(thetab, 0., 0., 0.)\n",
    "gbc = Trans_Mat(0.,  Lb/2.,  Lb/2., 0.)\n",
    "gbd = Trans_Mat(0., -Lb/2.,  Lb/2., 0.)\n",
    "gbe = Trans_Mat(0., -Lb/2., -Lb/2., 0.)\n",
    "gbf = Trans_Mat(0.,  Lb/2., -Lb/2., 0.)\n",
    "\n",
    "gwb = sym.simplify(gwa*gab)\n",
    "gwc = sym.simplify(gwb*gbc)\n",
    "gwd = sym.simplify(gwb*gbd)\n",
    "gwe = sym.simplify(gwb*gbe)\n",
    "gwf = sym.simplify(gwb*gbf)\n",
    "\n",
    "display(Markdown(r'**The Tranformation from world to frame $B$ $g_{WB}$ is:**'))\n",
    "display(gwb)\n",
    "display(Markdown(r'**The Tranformation from world to frame $C$ $g_{WC}$ is:**'))\n",
    "display(gwc)\n",
    "display(Markdown(r'**The Tranformation from world to frame $D$ $g_{WD}$ is:**'))\n",
    "display(gwd)\n",
    "display(Markdown(r'**The Tranformation from world to frame $E$ $g_{WE}$ is:**'))\n",
    "display(gwe)\n",
    "display(Markdown(r'**The Tranformation from world to frame $F$ $g_{WF}$ is:**'))\n",
    "display(gwf)\n",
    "\n",
    "\n",
    "# Jack Frames\n",
    "gwg = Trans_Mat(0., xj, yj, 0.)\n",
    "ggh = Trans_Mat(thetaj, 0., 0., 0.)\n",
    "ghi = Trans_Mat(0.,  Lj/2.,     0., 0.)\n",
    "ghj = Trans_Mat(0.,     0.,  Lj/2., 0.)\n",
    "ghk = Trans_Mat(0., -Lj/2.,     0., 0.)\n",
    "ghl = Trans_Mat(0.,     0., -Lj/2., 0.)\n",
    "\n",
    "gwh = gwg*ggh\n",
    "gwi = gwh*ghi\n",
    "gwj = gwh*ghj\n",
    "gwk = gwh*ghk\n",
    "gwl = gwh*ghl"
   ]
  },
  {
   "cell_type": "code",
   "execution_count": 75,
   "metadata": {},
   "outputs": [
    {
     "data": {
      "text/markdown": [
       "**Inertia tensor of the box ${\\cal I}_{box}=$**"
      ],
      "text/plain": [
       "<IPython.core.display.Markdown object>"
      ]
     },
     "metadata": {},
     "output_type": "display_data"
    },
    {
     "data": {
      "text/latex": [
       "$\\displaystyle \\left[\\begin{matrix}1.0 & 0 & 0 & 0 & 0 & 0\\\\0 & 1.0 & 0 & 0 & 0 & 0\\\\0 & 0 & 1.0 & 0 & 0 & 0\\\\0 & 0 & 0 & 0 & 0 & 0\\\\0 & 0 & 0 & 0 & 0 & 0\\\\0 & 0 & 0 & 0 & 0 & 2.0\\end{matrix}\\right]$"
      ],
      "text/plain": [
       "Matrix([\n",
       "[1.0,   0,   0, 0, 0,   0],\n",
       "[  0, 1.0,   0, 0, 0,   0],\n",
       "[  0,   0, 1.0, 0, 0,   0],\n",
       "[  0,   0,   0, 0, 0,   0],\n",
       "[  0,   0,   0, 0, 0,   0],\n",
       "[  0,   0,   0, 0, 0, 2.0]])"
      ]
     },
     "metadata": {},
     "output_type": "display_data"
    },
    {
     "data": {
      "text/markdown": [
       "**Inertia tensor of the jack ${\\cal I}_{jack}=$**"
      ],
      "text/plain": [
       "<IPython.core.display.Markdown object>"
      ]
     },
     "metadata": {},
     "output_type": "display_data"
    },
    {
     "data": {
      "text/latex": [
       "$\\displaystyle \\left[\\begin{matrix}1.0 & 0 & 0 & 0 & 0 & 0\\\\0 & 1.0 & 0 & 0 & 0 & 0\\\\0 & 0 & 1.0 & 0 & 0 & 0\\\\0 & 0 & 0 & 0 & 0 & 0\\\\0 & 0 & 0 & 0 & 0 & 0\\\\0 & 0 & 0 & 0 & 0 & 0\\end{matrix}\\right]$"
      ],
      "text/plain": [
       "Matrix([\n",
       "[1.0,   0,   0, 0, 0, 0],\n",
       "[  0, 1.0,   0, 0, 0, 0],\n",
       "[  0,   0, 1.0, 0, 0, 0],\n",
       "[  0,   0,   0, 0, 0, 0],\n",
       "[  0,   0,   0, 0, 0, 0],\n",
       "[  0,   0,   0, 0, 0, 0]])"
      ]
     },
     "metadata": {},
     "output_type": "display_data"
    },
    {
     "data": {
      "text/markdown": [
       "**Twist of box is ${\\cal V}_{box}=$**"
      ],
      "text/plain": [
       "<IPython.core.display.Markdown object>"
      ]
     },
     "metadata": {},
     "output_type": "display_data"
    },
    {
     "data": {
      "text/latex": [
       "$\\displaystyle \\left[\\begin{matrix}1.0 \\sin{\\left(\\theta_{b}{\\left(t \\right)} \\right)} \\frac{d}{d t} y_{b}{\\left(t \\right)} + 1.0 \\cos{\\left(\\theta_{b}{\\left(t \\right)} \\right)} \\frac{d}{d t} x_{b}{\\left(t \\right)}\\\\- 1.0 \\sin{\\left(\\theta_{b}{\\left(t \\right)} \\right)} \\frac{d}{d t} x_{b}{\\left(t \\right)} + 1.0 \\cos{\\left(\\theta_{b}{\\left(t \\right)} \\right)} \\frac{d}{d t} y_{b}{\\left(t \\right)}\\\\0\\\\0\\\\0\\\\\\frac{d}{d t} \\theta_{b}{\\left(t \\right)}\\end{matrix}\\right]$"
      ],
      "text/plain": [
       "Matrix([\n",
       "[ 1.0*sin(\\theta_b(t))*Derivative(y_b(t), t) + 1.0*cos(\\theta_b(t))*Derivative(x_b(t), t)],\n",
       "[-1.0*sin(\\theta_b(t))*Derivative(x_b(t), t) + 1.0*cos(\\theta_b(t))*Derivative(y_b(t), t)],\n",
       "[                                                                                       0],\n",
       "[                                                                                       0],\n",
       "[                                                                                       0],\n",
       "[                                                              Derivative(\\theta_b(t), t)]])"
      ]
     },
     "metadata": {},
     "output_type": "display_data"
    },
    {
     "data": {
      "text/markdown": [
       "**Twist of first mass on jack ${\\cal V}_{jack,1}=$**"
      ],
      "text/plain": [
       "<IPython.core.display.Markdown object>"
      ]
     },
     "metadata": {},
     "output_type": "display_data"
    },
    {
     "data": {
      "text/latex": [
       "$\\displaystyle \\left[\\begin{matrix}1.0 \\sin{\\left(\\theta_{j}{\\left(t \\right)} \\right)} \\frac{d}{d t} y_{j}{\\left(t \\right)} + 1.0 \\cos{\\left(\\theta_{j}{\\left(t \\right)} \\right)} \\frac{d}{d t} x_{j}{\\left(t \\right)}\\\\- 1.0 \\sin{\\left(\\theta_{j}{\\left(t \\right)} \\right)} \\frac{d}{d t} x_{j}{\\left(t \\right)} + 1.0 \\cos{\\left(\\theta_{j}{\\left(t \\right)} \\right)} \\frac{d}{d t} y_{j}{\\left(t \\right)} + 0.5 \\frac{d}{d t} \\theta_{j}{\\left(t \\right)}\\\\0\\\\0\\\\0\\\\\\frac{d}{d t} \\theta_{j}{\\left(t \\right)}\\end{matrix}\\right]$"
      ],
      "text/plain": [
       "Matrix([\n",
       "[                                  1.0*sin(\\theta_j(t))*Derivative(y_j(t), t) + 1.0*cos(\\theta_j(t))*Derivative(x_j(t), t)],\n",
       "[-1.0*sin(\\theta_j(t))*Derivative(x_j(t), t) + 1.0*cos(\\theta_j(t))*Derivative(y_j(t), t) + 0.5*Derivative(\\theta_j(t), t)],\n",
       "[                                                                                                                        0],\n",
       "[                                                                                                                        0],\n",
       "[                                                                                                                        0],\n",
       "[                                                                                               Derivative(\\theta_j(t), t)]])"
      ]
     },
     "metadata": {},
     "output_type": "display_data"
    },
    {
     "data": {
      "text/markdown": [
       "**Twist of second mass on jack ${\\cal V}_{jack,2}=$**"
      ],
      "text/plain": [
       "<IPython.core.display.Markdown object>"
      ]
     },
     "metadata": {},
     "output_type": "display_data"
    },
    {
     "data": {
      "text/latex": [
       "$\\displaystyle \\left[\\begin{matrix}1.0 \\sin{\\left(\\theta_{j}{\\left(t \\right)} \\right)} \\frac{d}{d t} y_{j}{\\left(t \\right)} + 1.0 \\cos{\\left(\\theta_{j}{\\left(t \\right)} \\right)} \\frac{d}{d t} x_{j}{\\left(t \\right)} - 0.5 \\frac{d}{d t} \\theta_{j}{\\left(t \\right)}\\\\- 1.0 \\sin{\\left(\\theta_{j}{\\left(t \\right)} \\right)} \\frac{d}{d t} x_{j}{\\left(t \\right)} + 1.0 \\cos{\\left(\\theta_{j}{\\left(t \\right)} \\right)} \\frac{d}{d t} y_{j}{\\left(t \\right)}\\\\0\\\\0\\\\0\\\\\\frac{d}{d t} \\theta_{j}{\\left(t \\right)}\\end{matrix}\\right]$"
      ],
      "text/plain": [
       "Matrix([\n",
       "[1.0*sin(\\theta_j(t))*Derivative(y_j(t), t) + 1.0*cos(\\theta_j(t))*Derivative(x_j(t), t) - 0.5*Derivative(\\theta_j(t), t)],\n",
       "[                                -1.0*sin(\\theta_j(t))*Derivative(x_j(t), t) + 1.0*cos(\\theta_j(t))*Derivative(y_j(t), t)],\n",
       "[                                                                                                                       0],\n",
       "[                                                                                                                       0],\n",
       "[                                                                                                                       0],\n",
       "[                                                                                              Derivative(\\theta_j(t), t)]])"
      ]
     },
     "metadata": {},
     "output_type": "display_data"
    },
    {
     "data": {
      "text/markdown": [
       "**Twist of third mass on jack ${\\cal V}_{jack,3}=$**"
      ],
      "text/plain": [
       "<IPython.core.display.Markdown object>"
      ]
     },
     "metadata": {},
     "output_type": "display_data"
    },
    {
     "data": {
      "text/latex": [
       "$\\displaystyle \\left[\\begin{matrix}1.0 \\sin{\\left(\\theta_{j}{\\left(t \\right)} \\right)} \\frac{d}{d t} y_{j}{\\left(t \\right)} + 1.0 \\cos{\\left(\\theta_{j}{\\left(t \\right)} \\right)} \\frac{d}{d t} x_{j}{\\left(t \\right)}\\\\- 1.0 \\sin{\\left(\\theta_{j}{\\left(t \\right)} \\right)} \\frac{d}{d t} x_{j}{\\left(t \\right)} + 1.0 \\cos{\\left(\\theta_{j}{\\left(t \\right)} \\right)} \\frac{d}{d t} y_{j}{\\left(t \\right)} - 0.5 \\frac{d}{d t} \\theta_{j}{\\left(t \\right)}\\\\0\\\\0\\\\0\\\\\\frac{d}{d t} \\theta_{j}{\\left(t \\right)}\\end{matrix}\\right]$"
      ],
      "text/plain": [
       "Matrix([\n",
       "[                                  1.0*sin(\\theta_j(t))*Derivative(y_j(t), t) + 1.0*cos(\\theta_j(t))*Derivative(x_j(t), t)],\n",
       "[-1.0*sin(\\theta_j(t))*Derivative(x_j(t), t) + 1.0*cos(\\theta_j(t))*Derivative(y_j(t), t) - 0.5*Derivative(\\theta_j(t), t)],\n",
       "[                                                                                                                        0],\n",
       "[                                                                                                                        0],\n",
       "[                                                                                                                        0],\n",
       "[                                                                                               Derivative(\\theta_j(t), t)]])"
      ]
     },
     "metadata": {},
     "output_type": "display_data"
    },
    {
     "data": {
      "text/markdown": [
       "**Twist of fourth mass on jack ${\\cal V}_{jack,4}=$**"
      ],
      "text/plain": [
       "<IPython.core.display.Markdown object>"
      ]
     },
     "metadata": {},
     "output_type": "display_data"
    },
    {
     "data": {
      "text/latex": [
       "$\\displaystyle \\left[\\begin{matrix}1.0 \\sin{\\left(\\theta_{j}{\\left(t \\right)} \\right)} \\frac{d}{d t} y_{j}{\\left(t \\right)} + 1.0 \\cos{\\left(\\theta_{j}{\\left(t \\right)} \\right)} \\frac{d}{d t} x_{j}{\\left(t \\right)} + 0.5 \\frac{d}{d t} \\theta_{j}{\\left(t \\right)}\\\\- 1.0 \\sin{\\left(\\theta_{j}{\\left(t \\right)} \\right)} \\frac{d}{d t} x_{j}{\\left(t \\right)} + 1.0 \\cos{\\left(\\theta_{j}{\\left(t \\right)} \\right)} \\frac{d}{d t} y_{j}{\\left(t \\right)}\\\\0\\\\0\\\\0\\\\\\frac{d}{d t} \\theta_{j}{\\left(t \\right)}\\end{matrix}\\right]$"
      ],
      "text/plain": [
       "Matrix([\n",
       "[1.0*sin(\\theta_j(t))*Derivative(y_j(t), t) + 1.0*cos(\\theta_j(t))*Derivative(x_j(t), t) + 0.5*Derivative(\\theta_j(t), t)],\n",
       "[                                -1.0*sin(\\theta_j(t))*Derivative(x_j(t), t) + 1.0*cos(\\theta_j(t))*Derivative(y_j(t), t)],\n",
       "[                                                                                                                       0],\n",
       "[                                                                                                                       0],\n",
       "[                                                                                                                       0],\n",
       "[                                                                                              Derivative(\\theta_j(t), t)]])"
      ]
     },
     "metadata": {},
     "output_type": "display_data"
    }
   ],
   "source": [
    "Ib_ten = sym.diag(M, M, M, 0, 0, 2.)\n",
    "Ij_ten = sym.diag(m, m, m, 0, 0, 0)\n",
    "\n",
    "display(Markdown(r'**Inertia tensor of the box ${\\cal I}_{box}=$**'))\n",
    "display(Ib_ten)\n",
    "display(Markdown(r'**Inertia tensor of the jack ${\\cal I}_{jack}=$**'))\n",
    "display(Ij_ten)\n",
    "\n",
    "# Box Velocity\n",
    "Vb_b_hat = sym.simplify(trans_inv(gwb)*gwb.diff(t))\n",
    "Vb_b     = sym.simplify(unhat(Vb_b_hat))\n",
    "\n",
    "display(Markdown(r'**Twist of box is ${\\cal V}_{box}=$**'))\n",
    "display(Vb_b)\n",
    "\n",
    "# Jack Velocities\n",
    "Vb_i_hat = sym.simplify(trans_inv(gwi)*gwi.diff(t))\n",
    "Vb_i     = sym.simplify(unhat(Vb_i_hat))\n",
    "\n",
    "Vb_j_hat = sym.simplify(trans_inv(gwj)*gwj.diff(t))\n",
    "Vb_j     = sym.simplify(unhat(Vb_j_hat))\n",
    "\n",
    "Vb_k_hat = sym.simplify(trans_inv(gwk)*gwk.diff(t))\n",
    "Vb_k     = sym.simplify(unhat(Vb_k_hat))\n",
    "\n",
    "Vb_l_hat = sym.simplify(trans_inv(gwl)*gwl.diff(t))\n",
    "Vb_l     = sym.simplify(unhat(Vb_l_hat))\n",
    "\n",
    "display(Markdown(r'**Twist of first mass on jack ${\\cal V}_{jack,1}=$**'))\n",
    "display(Vb_i)\n",
    "display(Markdown(r'**Twist of second mass on jack ${\\cal V}_{jack,2}=$**'))\n",
    "display(Vb_j)\n",
    "display(Markdown(r'**Twist of third mass on jack ${\\cal V}_{jack,3}=$**'))\n",
    "display(Vb_k)\n",
    "display(Markdown(r'**Twist of fourth mass on jack ${\\cal V}_{jack,4}=$**'))\n",
    "display(Vb_l)\n"
   ]
  },
  {
   "cell_type": "code",
   "execution_count": 76,
   "metadata": {},
   "outputs": [
    {
     "data": {
      "text/latex": [
       "$\\displaystyle 1.0 \\left(\\frac{d}{d t} \\theta_{b}{\\left(t \\right)}\\right)^{2} + 0.5 \\left(\\frac{d}{d t} x_{b}{\\left(t \\right)}\\right)^{2} + 0.5 \\left(\\frac{d}{d t} y_{b}{\\left(t \\right)}\\right)^{2}$"
      ],
      "text/plain": [
       "1.0*Derivative(\\theta_b(t), t)**2 + 0.5*Derivative(x_b(t), t)**2 + 0.5*Derivative(y_b(t), t)**2"
      ]
     },
     "metadata": {},
     "output_type": "display_data"
    },
    {
     "data": {
      "text/latex": [
       "$\\displaystyle - 0.5 \\sin{\\left(\\theta_{j}{\\left(t \\right)} \\right)} \\frac{d}{d t} \\theta_{j}{\\left(t \\right)} \\frac{d}{d t} x_{j}{\\left(t \\right)} + 0.5 \\cos{\\left(\\theta_{j}{\\left(t \\right)} \\right)} \\frac{d}{d t} \\theta_{j}{\\left(t \\right)} \\frac{d}{d t} y_{j}{\\left(t \\right)} + 0.125 \\left(\\frac{d}{d t} \\theta_{j}{\\left(t \\right)}\\right)^{2} + 0.5 \\left(\\frac{d}{d t} x_{j}{\\left(t \\right)}\\right)^{2} + 0.5 \\left(\\frac{d}{d t} y_{j}{\\left(t \\right)}\\right)^{2}$"
      ],
      "text/plain": [
       "-0.5*sin(\\theta_j(t))*Derivative(\\theta_j(t), t)*Derivative(x_j(t), t) + 0.5*cos(\\theta_j(t))*Derivative(\\theta_j(t), t)*Derivative(y_j(t), t) + 0.125*Derivative(\\theta_j(t), t)**2 + 0.5*Derivative(x_j(t), t)**2 + 0.5*Derivative(y_j(t), t)**2"
      ]
     },
     "metadata": {},
     "output_type": "display_data"
    },
    {
     "data": {
      "text/latex": [
       "$\\displaystyle - 0.5 \\sin{\\left(\\theta_{j}{\\left(t \\right)} \\right)} \\frac{d}{d t} \\theta_{j}{\\left(t \\right)} \\frac{d}{d t} y_{j}{\\left(t \\right)} - 0.5 \\cos{\\left(\\theta_{j}{\\left(t \\right)} \\right)} \\frac{d}{d t} \\theta_{j}{\\left(t \\right)} \\frac{d}{d t} x_{j}{\\left(t \\right)} + 0.125 \\left(\\frac{d}{d t} \\theta_{j}{\\left(t \\right)}\\right)^{2} + 0.5 \\left(\\frac{d}{d t} x_{j}{\\left(t \\right)}\\right)^{2} + 0.5 \\left(\\frac{d}{d t} y_{j}{\\left(t \\right)}\\right)^{2}$"
      ],
      "text/plain": [
       "-0.5*sin(\\theta_j(t))*Derivative(\\theta_j(t), t)*Derivative(y_j(t), t) - 0.5*cos(\\theta_j(t))*Derivative(\\theta_j(t), t)*Derivative(x_j(t), t) + 0.125*Derivative(\\theta_j(t), t)**2 + 0.5*Derivative(x_j(t), t)**2 + 0.5*Derivative(y_j(t), t)**2"
      ]
     },
     "metadata": {},
     "output_type": "display_data"
    },
    {
     "data": {
      "text/latex": [
       "$\\displaystyle 0.5 \\sin{\\left(\\theta_{j}{\\left(t \\right)} \\right)} \\frac{d}{d t} \\theta_{j}{\\left(t \\right)} \\frac{d}{d t} x_{j}{\\left(t \\right)} - 0.5 \\cos{\\left(\\theta_{j}{\\left(t \\right)} \\right)} \\frac{d}{d t} \\theta_{j}{\\left(t \\right)} \\frac{d}{d t} y_{j}{\\left(t \\right)} + 0.125 \\left(\\frac{d}{d t} \\theta_{j}{\\left(t \\right)}\\right)^{2} + 0.5 \\left(\\frac{d}{d t} x_{j}{\\left(t \\right)}\\right)^{2} + 0.5 \\left(\\frac{d}{d t} y_{j}{\\left(t \\right)}\\right)^{2}$"
      ],
      "text/plain": [
       "0.5*sin(\\theta_j(t))*Derivative(\\theta_j(t), t)*Derivative(x_j(t), t) - 0.5*cos(\\theta_j(t))*Derivative(\\theta_j(t), t)*Derivative(y_j(t), t) + 0.125*Derivative(\\theta_j(t), t)**2 + 0.5*Derivative(x_j(t), t)**2 + 0.5*Derivative(y_j(t), t)**2"
      ]
     },
     "metadata": {},
     "output_type": "display_data"
    },
    {
     "data": {
      "text/latex": [
       "$\\displaystyle 0.5 \\sin{\\left(\\theta_{j}{\\left(t \\right)} \\right)} \\frac{d}{d t} \\theta_{j}{\\left(t \\right)} \\frac{d}{d t} y_{j}{\\left(t \\right)} + 0.5 \\cos{\\left(\\theta_{j}{\\left(t \\right)} \\right)} \\frac{d}{d t} \\theta_{j}{\\left(t \\right)} \\frac{d}{d t} x_{j}{\\left(t \\right)} + 0.125 \\left(\\frac{d}{d t} \\theta_{j}{\\left(t \\right)}\\right)^{2} + 0.5 \\left(\\frac{d}{d t} x_{j}{\\left(t \\right)}\\right)^{2} + 0.5 \\left(\\frac{d}{d t} y_{j}{\\left(t \\right)}\\right)^{2}$"
      ],
      "text/plain": [
       "0.5*sin(\\theta_j(t))*Derivative(\\theta_j(t), t)*Derivative(y_j(t), t) + 0.5*cos(\\theta_j(t))*Derivative(\\theta_j(t), t)*Derivative(x_j(t), t) + 0.125*Derivative(\\theta_j(t), t)**2 + 0.5*Derivative(x_j(t), t)**2 + 0.5*Derivative(y_j(t), t)**2"
      ]
     },
     "metadata": {},
     "output_type": "display_data"
    },
    {
     "data": {
      "text/latex": [
       "$\\displaystyle 0.5 \\left(\\frac{d}{d t} \\theta_{j}{\\left(t \\right)}\\right)^{2} + 2.0 \\left(\\frac{d}{d t} x_{j}{\\left(t \\right)}\\right)^{2} + 2.0 \\left(\\frac{d}{d t} y_{j}{\\left(t \\right)}\\right)^{2}$"
      ],
      "text/plain": [
       "0.5*Derivative(\\theta_j(t), t)**2 + 2.0*Derivative(x_j(t), t)**2 + 2.0*Derivative(y_j(t), t)**2"
      ]
     },
     "metadata": {},
     "output_type": "display_data"
    },
    {
     "data": {
      "text/latex": [
       "$\\displaystyle 1.0 \\left(\\frac{d}{d t} \\theta_{b}{\\left(t \\right)}\\right)^{2} + 0.5 \\left(\\frac{d}{d t} \\theta_{j}{\\left(t \\right)}\\right)^{2} + 0.5 \\left(\\frac{d}{d t} x_{b}{\\left(t \\right)}\\right)^{2} + 2.0 \\left(\\frac{d}{d t} x_{j}{\\left(t \\right)}\\right)^{2} + 0.5 \\left(\\frac{d}{d t} y_{b}{\\left(t \\right)}\\right)^{2} + 2.0 \\left(\\frac{d}{d t} y_{j}{\\left(t \\right)}\\right)^{2}$"
      ],
      "text/plain": [
       "1.0*Derivative(\\theta_b(t), t)**2 + 0.5*Derivative(\\theta_j(t), t)**2 + 0.5*Derivative(x_b(t), t)**2 + 2.0*Derivative(x_j(t), t)**2 + 0.5*Derivative(y_b(t), t)**2 + 2.0*Derivative(y_j(t), t)**2"
      ]
     },
     "metadata": {},
     "output_type": "display_data"
    }
   ],
   "source": [
    "## Kinetic Energies\n",
    "\n",
    "# Box\n",
    "KE_b = sym.simplify((0.5*Vb_b.T @ Ib_ten @ Vb_b)[0])\n",
    "display(KE_b)\n",
    "\n",
    "# Jack\n",
    "KE_1 = sym.simplify((0.5*Vb_i.T @ Ij_ten @ Vb_i)[0])\n",
    "KE_2 = sym.simplify((0.5*Vb_j.T @ Ij_ten @ Vb_j)[0])\n",
    "KE_3 = sym.simplify((0.5*Vb_k.T @ Ij_ten @ Vb_k)[0])\n",
    "KE_4 = sym.simplify((0.5*Vb_l.T @ Ij_ten @ Vb_l)[0])\n",
    "\n",
    "\n",
    "display(KE_1)\n",
    "display(KE_2)\n",
    "display(KE_3)\n",
    "display(KE_4)\n",
    "\n",
    "KE_j = sym.simplify(KE_1 + KE_2 + KE_3 + KE_4)\n",
    "display(KE_j)\n",
    "\n",
    "KE = sym.simplify(KE_b + KE_j)\n",
    "display(KE)"
   ]
  },
  {
   "cell_type": "code",
   "execution_count": 77,
   "metadata": {},
   "outputs": [
    {
     "data": {
      "text/latex": [
       "$\\displaystyle 9.8 y_{b}{\\left(t \\right)}$"
      ],
      "text/plain": [
       "9.8*y_b(t)"
      ]
     },
     "metadata": {},
     "output_type": "display_data"
    },
    {
     "data": {
      "text/latex": [
       "$\\displaystyle 39.2 y_{j}{\\left(t \\right)}$"
      ],
      "text/plain": [
       "39.2*y_j(t)"
      ]
     },
     "metadata": {},
     "output_type": "display_data"
    },
    {
     "data": {
      "text/latex": [
       "$\\displaystyle 9.8 y_{b}{\\left(t \\right)} + 39.2 y_{j}{\\left(t \\right)}$"
      ],
      "text/plain": [
       "9.8*y_b(t) + 39.2*y_j(t)"
      ]
     },
     "metadata": {},
     "output_type": "display_data"
    }
   ],
   "source": [
    "## Potential Energy\n",
    "\n",
    "# Box\n",
    "hb = sym.simplify((sym.Matrix([[0, 1, 0, 0]]) * gwb * sym.Matrix([0, 0, 0, 1]))[0])\n",
    "Vb = M*g*hb\n",
    "\n",
    "display(Vb)\n",
    "\n",
    "# Jack\n",
    "h1 = sym.simplify((sym.Matrix([[0, 1, 0, 0]]) * gwi * sym.Matrix([0, 0, 0, 1]))[0])\n",
    "h2 = sym.simplify((sym.Matrix([[0, 1, 0, 0]]) * gwj * sym.Matrix([0, 0, 0, 1]))[0])\n",
    "h3 = sym.simplify((sym.Matrix([[0, 1, 0, 0]]) * gwk * sym.Matrix([0, 0, 0, 1]))[0])\n",
    "h4 = sym.simplify((sym.Matrix([[0, 1, 0, 0]]) * gwl * sym.Matrix([0, 0, 0, 1]))[0])\n",
    "\n",
    "V1 = m*g*h1\n",
    "V2 = m*g*h2\n",
    "V3 = m*g*h3\n",
    "V4 = m*g*h4\n",
    "\n",
    "Vj = sym.simplify(V1 + V2 + V3 + V4)\n",
    "display(Vj)\n",
    "\n",
    "V = sym.simplify(Vb + Vj)\n",
    "display(V)"
   ]
  },
  {
   "cell_type": "code",
   "execution_count": 78,
   "metadata": {},
   "outputs": [
    {
     "data": {
      "text/latex": [
       "$\\displaystyle - 9.8 y_{b}{\\left(t \\right)} - 39.2 y_{j}{\\left(t \\right)} + 1.0 \\left(\\frac{d}{d t} \\theta_{b}{\\left(t \\right)}\\right)^{2} + 0.5 \\left(\\frac{d}{d t} \\theta_{j}{\\left(t \\right)}\\right)^{2} + 0.5 \\left(\\frac{d}{d t} x_{b}{\\left(t \\right)}\\right)^{2} + 2.0 \\left(\\frac{d}{d t} x_{j}{\\left(t \\right)}\\right)^{2} + 0.5 \\left(\\frac{d}{d t} y_{b}{\\left(t \\right)}\\right)^{2} + 2.0 \\left(\\frac{d}{d t} y_{j}{\\left(t \\right)}\\right)^{2}$"
      ],
      "text/plain": [
       "-9.8*y_b(t) - 39.2*y_j(t) + 1.0*Derivative(\\theta_b(t), t)**2 + 0.5*Derivative(\\theta_j(t), t)**2 + 0.5*Derivative(x_b(t), t)**2 + 2.0*Derivative(x_j(t), t)**2 + 0.5*Derivative(y_b(t), t)**2 + 2.0*Derivative(y_j(t), t)**2"
      ]
     },
     "metadata": {},
     "output_type": "display_data"
    },
    {
     "data": {
      "text/latex": [
       "$\\displaystyle \\left[\\begin{matrix}1.0 \\frac{d^{2}}{d t^{2}} x_{b}{\\left(t \\right)}\\\\1.0 \\frac{d^{2}}{d t^{2}} y_{b}{\\left(t \\right)} + 9.8\\\\2.0 \\frac{d^{2}}{d t^{2}} \\theta_{b}{\\left(t \\right)}\\\\4.0 \\frac{d^{2}}{d t^{2}} x_{j}{\\left(t \\right)}\\\\4.0 \\frac{d^{2}}{d t^{2}} y_{j}{\\left(t \\right)} + 39.2\\\\1.0 \\frac{d^{2}}{d t^{2}} \\theta_{j}{\\left(t \\right)}\\end{matrix}\\right]$"
      ],
      "text/plain": [
       "Matrix([\n",
       "[       1.0*Derivative(x_b(t), (t, 2))],\n",
       "[ 1.0*Derivative(y_b(t), (t, 2)) + 9.8],\n",
       "[  2.0*Derivative(\\theta_b(t), (t, 2))],\n",
       "[       4.0*Derivative(x_j(t), (t, 2))],\n",
       "[4.0*Derivative(y_j(t), (t, 2)) + 39.2],\n",
       "[  1.0*Derivative(\\theta_j(t), (t, 2))]])"
      ]
     },
     "metadata": {},
     "output_type": "display_data"
    },
    {
     "data": {
      "text/latex": [
       "$\\displaystyle \\left[\\begin{matrix}2 \\lambda{\\left(t \\right)} x_{b}{\\left(t \\right)}\\\\2 \\lambda{\\left(t \\right)} y_{b}{\\left(t \\right)}\\\\0\\\\0\\\\0\\\\0\\end{matrix}\\right]$"
      ],
      "text/plain": [
       "Matrix([\n",
       "[2*\\lambda(t)*x_b(t)],\n",
       "[2*\\lambda(t)*y_b(t)],\n",
       "[                  0],\n",
       "[                  0],\n",
       "[                  0],\n",
       "[                  0]])"
      ]
     },
     "metadata": {},
     "output_type": "display_data"
    }
   ],
   "source": [
    "## Lagrangian and Euler Lagrange Equation\n",
    "\n",
    "# Lagrangian\n",
    "L = sym.simplify(KE - V)\n",
    "display(L)\n",
    "\n",
    "L_mat      = sym.Matrix([L])\n",
    "dLdq       = sym.simplify(L_mat.jacobian(q).T)\n",
    "dLdqdot    = sym.simplify(L_mat.jacobian(qdot)).T\n",
    "ddtdLdqdot = sym.simplify(dLdqdot.diff(t))\n",
    "\n",
    "EL = sym.simplify(ddtdLdqdot - dLdq)\n",
    "display(EL)\n",
    "\n",
    "xb  = sym.simplify((sym.Matrix([[1, 0, 0, 0]]) * gwa * sym.Matrix([0, 0, 0, 1]))[0])\n",
    "yb  = sym.simplify((sym.Matrix([[0, 1, 0, 0]]) * gwa * sym.Matrix([0, 0, 0, 1]))[0])\n",
    "phi = sym.simplify(xb**2 + yb**2)\n",
    "\n",
    "phi_mat = sym.Matrix([phi])\n",
    "dphidq  = sym.simplify(phi_mat.jacobian(q).T)\n",
    "cons    = lam*dphidq\n",
    "display(cons)"
   ]
  },
  {
   "cell_type": "code",
   "execution_count": null,
   "metadata": {},
   "outputs": [],
   "source": []
  },
  {
   "cell_type": "markdown",
   "metadata": {},
   "source": []
  }
 ],
 "metadata": {
  "kernelspec": {
   "display_name": ".venv",
   "language": "python",
   "name": "python3"
  },
  "language_info": {
   "codemirror_mode": {
    "name": "ipython",
    "version": 3
   },
   "file_extension": ".py",
   "mimetype": "text/x-python",
   "name": "python",
   "nbconvert_exporter": "python",
   "pygments_lexer": "ipython3",
   "version": "3.10.12"
  }
 },
 "nbformat": 4,
 "nbformat_minor": 2
}
